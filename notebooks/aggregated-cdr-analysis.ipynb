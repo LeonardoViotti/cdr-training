{
 "cells": [
  {
   "cell_type": "markdown",
   "metadata": {
    "id": "sKd3pER2LVMu"
   },
   "source": [
    "# CDR Analysis\n",
    "\n",
    "This notebook contains exercises to analyze aggregated CDR data. It uses mock CDR data for Ghana from February to May 2020. "
   ]
  },
  {
   "cell_type": "markdown",
   "metadata": {
    "id": "VGsOgtQfYalb"
   },
   "source": [
    "# Environment set-up\n",
    "Run the cell below:"
   ]
  },
  {
   "cell_type": "code",
   "execution_count": null,
   "metadata": {
    "colab": {
     "base_uri": "https://localhost:8080/"
    },
    "id": "2VOVB-FHL0yL",
    "outputId": "df1e5966-bc04-4926-872c-01f1309d2dc6"
   },
   "outputs": [],
   "source": [
    "#------------------------------------------------------------------------\n",
    "# Libraries installation\n",
    "\n",
    "!pip install geopandas\n",
    "\n",
    "#------------------------------------------------------------------------\n",
    "# User defined functions\n",
    "\n",
    "def time_complete(data, timefreq = 'D'):\n",
    "    data = data.reset_index()\n",
    "    timevar = data.columns[0]\n",
    "    data[timevar] = data[timevar].astype('datetime64[D]')\n",
    "    full_time_range = pd.date_range(data[timevar].min(),  \n",
    "                                            data[timevar].max(), \n",
    "                                            freq = timefreq)\n",
    "    data = data.set_index(timevar)\n",
    "    data = data.reindex(full_time_range,  fill_value=0)\n",
    "    data.index.name = 'date'\n",
    "    return(data)\n",
    "\n",
    "def day_lag(df):\n",
    "    # Makse sure date is datetime type\n",
    "    df['date'] = pd.to_datetime(df['date'])\n",
    "    \n",
    "    # Sort by region and date\n",
    "    df = df.sort_values(['date'])\n",
    "    \n",
    "    # Lag value\n",
    "    df['value_l'] = df['value'].shift(1)\n",
    "    \n",
    "    # Drop values if missing dates\n",
    "    value_l = df['value_l'].where(df.date.diff() == dt.timedelta(days = 1), np.nan)\n",
    "    \n",
    "    return value_l\n"
   ]
  },
  {
   "cell_type": "markdown",
   "metadata": {
    "id": "92SAq88YZLwB"
   },
   "source": [
    "# Let's start"
   ]
  },
  {
   "cell_type": "code",
   "execution_count": null,
   "metadata": {
    "id": "hCRBfqMGLjq7"
   },
   "outputs": [],
   "source": [
    "import pandas as pd\n",
    "import numpy as np\n",
    "import geopandas as gpd\n",
    "import matplotlib.pyplot as plt\n",
    "plt.style.use('seaborn-whitegrid')\n",
    "import datetime as dt"
   ]
  },
  {
   "cell_type": "markdown",
   "metadata": {
    "id": "-K86xN61OmPU"
   },
   "source": [
    "First, let's import the datasets we will use on this exercise"
   ]
  },
  {
   "cell_type": "code",
   "execution_count": null,
   "metadata": {
    "colab": {
     "base_uri": "https://localhost:8080/",
     "height": 262,
     "resources": {
      "http://localhost:8080/nbextensions/google.colab/files.js": {
       "data": "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",
       "headers": [
        [
         "content-type",
         "application/javascript"
        ]
       ],
       "ok": true,
       "status": 200,
       "status_text": ""
      }
     }
    },
    "id": "tq68weiSOV-X",
    "outputId": "c1bbe81e-7cf4-49b5-cbd4-eba90ff5228a"
   },
   "outputs": [],
   "source": [
    "from google.colab import files\n",
    "files.upload()"
   ]
  },
  {
   "cell_type": "code",
   "execution_count": null,
   "metadata": {
    "colab": {
     "base_uri": "https://localhost:8080/"
    },
    "id": "Q0FPdBvpOZQQ",
    "outputId": "5ba728dc-9fb8-422c-8c63-86a900211dda",
    "scrolled": true
   },
   "outputs": [],
   "source": [
    "!ls"
   ]
  },
  {
   "cell_type": "markdown",
   "metadata": {
    "id": "mqxrqm5dOxHi"
   },
   "source": [
    "Before we start, let's load and have a look at each one of the indicators."
   ]
  },
  {
   "cell_type": "code",
   "execution_count": null,
   "metadata": {
    "colab": {
     "base_uri": "https://localhost:8080/",
     "height": 204
    },
    "id": "wqCoflgQZRSY",
    "outputId": "25502d72-7b57-49fa-8663-86eae0c96cb1",
    "scrolled": true
   },
   "outputs": [],
   "source": [
    "# Load transactions per day data\n",
    "trans = pd.read_csv('transactions_per_day.csv')\n",
    "trans.head()"
   ]
  },
  {
   "cell_type": "code",
   "execution_count": null,
   "metadata": {
    "colab": {
     "base_uri": "https://localhost:8080/",
     "height": 204
    },
    "id": "KUMXZBMhOxHj",
    "outputId": "2fde2cab-7029-4623-c6c9-7ffd622bd2c9",
    "scrolled": true
   },
   "outputs": [],
   "source": [
    "# Load subscribers per day data\n",
    "subs = pd.read_csv('subscribers_per_day.csv')\n",
    "subs.head()"
   ]
  },
  {
   "cell_type": "code",
   "execution_count": null,
   "metadata": {
    "colab": {
     "base_uri": "https://localhost:8080/",
     "height": 204
    },
    "id": "4vCAYa36OxHj",
    "outputId": "41c40e4d-b0cd-4b03-eeab-7a0be4cbaa37"
   },
   "outputs": [],
   "source": [
    "# Load movements\n",
    "mov = pd.read_csv('movements_per_day.csv')\n",
    "mov.head()"
   ]
  },
  {
   "cell_type": "markdown",
   "metadata": {
    "id": "AgBRPdR0L_yK"
   },
   "source": [
    "## Exercise 1 - Quality checks\n",
    "\n",
    "First step is to take a quick look at the completeness and consistency of the data.\n",
    "\n",
    "- Check the number of regions per day\n",
    "- Check time completeness of the series\n",
    "- Compare number of subscribers to the number of calls\n"
   ]
  },
  {
   "cell_type": "markdown",
   "metadata": {
    "id": "7kCEE3ujOxHj"
   },
   "source": [
    "### Part 1 instructions:\n",
    "1. Aggregate the number of transactions per date for `transaction data` and `subscriber data`. Store the result in a new DataFrame called `trans_day` and `subs_day`\n",
    "    - Calculate the number of unique regions per day (TIP: use the `pd.Series.nunique` function.\n",
    "    - Calculate sum of total transactions per day\n",
    "2. Test if any date has fewer than 16 regions\n",
    "3. Run the time complete function (user defined) for `subscriber data` to create a new DataFrame replacing missing rows with zeros:\n",
    "    `trans_day_tcomplete = time_complete(subs_day)`\n",
    "4. Plot the `value` column of the time complete data frame.\n",
    "\n",
    "Do you see anything unusual?\n",
    "\n"
   ]
  },
  {
   "cell_type": "markdown",
   "metadata": {
    "id": "mNKdZ80POxHk"
   },
   "source": []
  },
  {
   "cell_type": "code",
   "execution_count": null,
   "metadata": {
    "colab": {
     "base_uri": "https://localhost:8080/",
     "height": 419
    },
    "id": "RmP4xlmUS2rE",
    "outputId": "5a482386-9ffe-4ad0-dfd0-7227420ab26f"
   },
   "outputs": [],
   "source": [
    "trans_day = trans.groupby('date').agg({'value': np.sum, 'pcod':pd.Series.nunique}).reset_index().sort_values('date')\n",
    "trans_day"
   ]
  },
  {
   "cell_type": "code",
   "execution_count": null,
   "metadata": {
    "colab": {
     "base_uri": "https://localhost:8080/",
     "height": 49
    },
    "id": "yw-Jnx7_UNeQ",
    "outputId": "2ecabc45-c65f-45b8-b16b-ba9ede7ad09f"
   },
   "outputs": [],
   "source": [
    "lower_reg = unique_reg[unique_reg.pcod < 16]\n",
    "lower_reg"
   ]
  },
  {
   "cell_type": "code",
   "execution_count": null,
   "metadata": {
    "colab": {
     "base_uri": "https://localhost:8080/",
     "height": 419
    },
    "id": "dYoC0ql0dLS_",
    "outputId": "d1a699f2-d3d3-4f13-af8d-adc9032e96e1"
   },
   "outputs": [],
   "source": [
    "subs_day = subs.groupby('date').agg({'value': np.sum, 'pcod':pd.Series.nunique}).reset_index().sort_values('date')\n",
    "subs_day"
   ]
  },
  {
   "cell_type": "code",
   "execution_count": null,
   "metadata": {
    "colab": {
     "base_uri": "https://localhost:8080/",
     "height": 450
    },
    "id": "hBSYGgYPUdXy",
    "outputId": "ca373929-e9ed-4cbf-c40e-288bb59ae561"
   },
   "outputs": [],
   "source": [
    "# Note: the date index is not correct?\n",
    "subs_day_tcomplete = time_complete(subs_day)\n",
    "subs_day_tcomplete"
   ]
  },
  {
   "cell_type": "code",
   "execution_count": null,
   "metadata": {
    "colab": {
     "base_uri": "https://localhost:8080/",
     "height": 304
    },
    "id": "e0xAMg5offBM",
    "outputId": "a2ee12c4-a53f-4684-9efe-678cad16c01e"
   },
   "outputs": [],
   "source": [
    "subs_day.plot(x = 'date',y = 'value')"
   ]
  },
  {
   "cell_type": "markdown",
   "metadata": {
    "id": "DVWvRSW0MHdY"
   },
   "source": [
    "## Exercise 2 - Changes over time"
   ]
  },
  {
   "cell_type": "markdown",
   "metadata": {
    "id": "kSUj4uo9iCqT"
   },
   "source": [
    "Now let's look how movement has changed over time. \n",
    "\n",
    "For simplicity we will use country level data and only look at movements between two different regions. Here's a quick summary of the comparisons we'll do:\n",
    "\n",
    "- Absolute values\n",
    "- Change from previous day\n",
    "- Change from Baseline (defined as the average from February 1st to March 15th)"
   ]
  },
  {
   "cell_type": "markdown",
   "metadata": {
    "id": "BJ5jC3U_OxHk"
   },
   "source": [
    "Also here is a time-line to help interpret the results:\n",
    "- February 1st to March 15th: Baseline period\n",
    "- March 16th: initial restrictions imposed\n",
    "- March 30th: Lockdown measures on parts of Accra and Kumasi metropolitan areas"
   ]
  },
  {
   "cell_type": "markdown",
   "metadata": {
    "id": "qrN_N9cWOxHk"
   },
   "source": [
    "### Instructions\n",
    "1. On the `mov` DataFrame, remove rows where users move within regions, that is `pcod_to` and `pcod_from` are the same\n",
    "2. Aggregate `mov` DataFrame by `date` to have country level data\n",
    "3. Use the `day_lag()` function to create the value from previous day for each date\n",
    "4. Use the `bl_values()` function to calculate the baseline for each date\n",
    "5. Create percent changes from previous day and from baseline columns.\n",
    "6. Create 3 different line plots:\n",
    "    - Level values of total movements\n",
    "    - Percent change from previous day\n",
    "    - Percent change from baseline\n",
    "\n",
    "How does these 3 plots compare?"
   ]
  },
  {
   "cell_type": "code",
   "execution_count": null,
   "metadata": {
    "colab": {
     "base_uri": "https://localhost:8080/",
     "height": 419
    },
    "id": "flJ_jpLCgFLz",
    "outputId": "aed03777-4bab-48c9-a02f-02db7983c2f4"
   },
   "outputs": [],
   "source": [
    "# Q1\n",
    "mov = mov[mov['pcod_from'] != mov['pcod_to']]\n",
    "mov"
   ]
  },
  {
   "cell_type": "code",
   "execution_count": null,
   "metadata": {
    "colab": {
     "base_uri": "https://localhost:8080/",
     "height": 419
    },
    "id": "U5_iqQpdgi13",
    "outputId": "a2ee3ff3-7ade-4a64-d2ca-b2bd84430001"
   },
   "outputs": [],
   "source": [
    "# Q2\n",
    "mov_day = mov.groupby('date').agg({'value' : np.sum}).reset_index()\n",
    "mov_day"
   ]
  },
  {
   "cell_type": "code",
   "execution_count": null,
   "metadata": {
    "colab": {
     "base_uri": "https://localhost:8080/",
     "height": 419
    },
    "id": "firBFlEbguUR",
    "outputId": "35437fa0-8869-4222-e794-dda26378ce07"
   },
   "outputs": [],
   "source": [
    "# Q3\n",
    "mov_day['prev_value'] = day_lag(mov_day)\n",
    "mov_day"
   ]
  },
  {
   "cell_type": "code",
   "execution_count": null,
   "metadata": {
    "colab": {
     "base_uri": "https://localhost:8080/",
     "height": 419
    },
    "id": "S8VFEhhQkon9",
    "outputId": "c0230a31-7730-4023-fa98-f56c09ed5e7c"
   },
   "outputs": [],
   "source": [
    "# Q4\n",
    "mov_day = bl_values(mov_day)"
   ]
  },
  {
   "cell_type": "code",
   "execution_count": null,
   "metadata": {
    "id": "du_rZeDAk6By"
   },
   "outputs": [],
   "source": [
    "# Q5\n",
    "mov_day['p_change_prev'] = (mov_day['value'] - mov_day['prev_value'])/mov_day['prev_value']\n",
    "mov_day['p_change_bl'] = (mov_day['value'] - mov_day['value_bl'])/mov_day['value_bl']\n"
   ]
  },
  {
   "cell_type": "code",
   "execution_count": null,
   "metadata": {
    "colab": {
     "base_uri": "https://localhost:8080/",
     "height": 419
    },
    "id": "WsBSLxEHlqOK",
    "outputId": "875f218e-0b34-4974-f72a-5fa35d56fc83"
   },
   "outputs": [],
   "source": [
    "mov_day"
   ]
  },
  {
   "cell_type": "code",
   "execution_count": null,
   "metadata": {
    "colab": {
     "base_uri": "https://localhost:8080/",
     "height": 296
    },
    "id": "wGreWVzbltAG",
    "outputId": "9a065f14-3b2b-473e-85e2-c78c74196438"
   },
   "outputs": [],
   "source": [
    "# Q6\n",
    "mov_day.plot(x = 'date', y = 'value')"
   ]
  },
  {
   "cell_type": "code",
   "execution_count": null,
   "metadata": {
    "colab": {
     "base_uri": "https://localhost:8080/",
     "height": 296
    },
    "id": "5M2jSdtKmFK5",
    "outputId": "17cb4093-6172-476e-fbe0-19cb115d27b0"
   },
   "outputs": [],
   "source": [
    "mov_day.plot(x = 'date', y = 'p_change_prev')"
   ]
  },
  {
   "cell_type": "code",
   "execution_count": null,
   "metadata": {
    "colab": {
     "base_uri": "https://localhost:8080/",
     "height": 296
    },
    "id": "zXajmaccmP0a",
    "outputId": "fe8a2514-d933-4645-87be-4e0b043b64ff"
   },
   "outputs": [],
   "source": [
    "mov_day.plot(x = 'date', y = 'p_change_bl')"
   ]
  },
  {
   "cell_type": "markdown",
   "metadata": {
    "id": "KxQfOCTBOxHl"
   },
   "source": [
    "### Function definitions:"
   ]
  },
  {
   "cell_type": "markdown",
   "metadata": {
    "id": "HEEn7W4JOxHl"
   },
   "source": [
    "Before we move to part 4, lets review what the `bl_value()` function is doing."
   ]
  },
  {
   "cell_type": "code",
   "execution_count": null,
   "metadata": {
    "id": "Bb-EGlWQOxHl"
   },
   "outputs": [],
   "source": [
    "def bl_values(df):\n",
    "    # Makse sure date is datetime type\n",
    "    df['date'] = pd.to_datetime(df['date'])\n",
    "\n",
    "    # Create weekday variable to calculate baseline values\n",
    "    df['weekday'] = df['date'].dt.dayofweek\n",
    "\n",
    "    # Keep only entries from Feb 1st to Mar 15th\n",
    "    bl = df[df['date'] < dt.datetime(2020, 3, 16)]\n",
    "\n",
    "    # Calculate baseline averages for each weekday\n",
    "    # bl_averages = bl.groupby(['pcod', 'weekday']).agg({'value': np.mean}).reset_index()\n",
    "    bl_averages = bl.groupby(['weekday']).agg({'value': np.mean}).reset_index()\n",
    "    \n",
    "    # Merge bl averages as a column on original df\n",
    "    # ndf = df.merge(bl_averages, on = ['pcod', 'weekday'],\n",
    "    #                suffixes = ('', '_bl')).drop('weekday', axis = 1)\n",
    "    ndf = df.merge(bl_averages, on = ['weekday'],\n",
    "                  suffixes = ('', '_bl')).drop('weekday', axis = 1)\n",
    "\n",
    "    return ndf\n"
   ]
  },
  {
   "cell_type": "markdown",
   "metadata": {
    "id": "1yDEra3bMHoG"
   },
   "source": [
    "\n",
    "## Exercise 3 - Choropleth"
   ]
  },
  {
   "cell_type": "code",
   "execution_count": null,
   "metadata": {
    "id": "fI954J60amL3"
   },
   "outputs": [],
   "source": [
    "import folium"
   ]
  },
  {
   "cell_type": "code",
   "execution_count": null,
   "metadata": {
    "id": "IqHXsONOOxHm"
   },
   "outputs": [],
   "source": [
    "gdf = gpd.read_file(\"admin1.geojson\")\n",
    "a1_geo = r'admin1.geojson'"
   ]
  },
  {
   "cell_type": "code",
   "execution_count": null,
   "metadata": {
    "id": "CE9r2S2tOxHm"
   },
   "outputs": [],
   "source": [
    "gdf.plot()\n"
   ]
  },
  {
   "cell_type": "code",
   "execution_count": null,
   "metadata": {
    "id": "jHEEUWnvOxHm"
   },
   "outputs": [],
   "source": [
    "# subs_day = subs_day.reset_index()\n",
    "subs['month'] = subs['date'].dt.month\n",
    "subs_month = subs.groupby(['month', 'pcod']).agg({'value': np.sum}).reset_index()\n",
    "cho_data4 = subs_month[subs_month['month'] == 4]"
   ]
  },
  {
   "cell_type": "code",
   "execution_count": null,
   "metadata": {
    "id": "b6-7FP9FOxHm",
    "scrolled": true
   },
   "outputs": [],
   "source": [
    "\n",
    "m = folium.Map(location=[7.28, -0.97], zoom_start=7)\n",
    "\n",
    "folium.Choropleth(\n",
    "    geo_data=a1_geo,\n",
    "    name=\"May\",\n",
    "    data=cho_data5,\n",
    "    columns=[\"pcod\", \"value\"],\n",
    "    key_on=\"feature.properties.pcod\",\n",
    "    fill_color=\"BuPu\",\n",
    "    fill_opacity=0.7,\n",
    "    line_opacity=0.2,\n",
    "#     highlight = True,\n",
    "#     reset = True,\n",
    "#     overlay = False\n",
    ").add_to(m)\n",
    "\n",
    "# Add control to the side \n",
    "folium.LayerControl().add_to(m)\n",
    "\n",
    "m"
   ]
  }
 ],
 "metadata": {
  "colab": {
   "name": " aggregated-cdr-analysis.ipynb",
   "provenance": []
  },
  "kernelspec": {
   "display_name": "Python 3",
   "language": "python",
   "name": "python3"
  },
  "language_info": {
   "codemirror_mode": {
    "name": "ipython",
    "version": 3
   },
   "file_extension": ".py",
   "mimetype": "text/x-python",
   "name": "python",
   "nbconvert_exporter": "python",
   "pygments_lexer": "ipython3",
   "version": "3.7.7"
  }
 },
 "nbformat": 4,
 "nbformat_minor": 1
}
