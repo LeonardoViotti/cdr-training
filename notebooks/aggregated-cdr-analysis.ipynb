{
  "nbformat": 4,
  "nbformat_minor": 0,
  "metadata": {
    "colab": {
      "name": " aggregated-cdr-analysis.ipynb",
      "provenance": [],
      "include_colab_link": true
    },
    "kernelspec": {
      "display_name": "Python 3",
      "language": "python",
      "name": "python3"
    },
    "language_info": {
      "codemirror_mode": {
        "name": "ipython",
        "version": 3
      },
      "file_extension": ".py",
      "mimetype": "text/x-python",
      "name": "python",
      "nbconvert_exporter": "python",
      "pygments_lexer": "ipython3",
      "version": "3.7.7"
    }
  },
  "cells": [
    {
      "cell_type": "markdown",
      "metadata": {
        "id": "view-in-github",
        "colab_type": "text"
      },
      "source": [
        "<a href=\"https://colab.research.google.com/github/LeonardoViotti/cdr-training/blob/develop/notebooks/aggregated-cdr-analysis.ipynb\" target=\"_parent\"><img src=\"https://colab.research.google.com/assets/colab-badge.svg\" alt=\"Open In Colab\"/></a>"
      ]
    },
    {
      "cell_type": "markdown",
      "metadata": {
        "id": "sKd3pER2LVMu"
      },
      "source": [
        "# CDR Analysis\n",
        "\n",
        " - Aggregated data\n",
        " - Quality Checks\n",
        " - Analysis\n",
        " - Map"
      ]
    },
    {
      "cell_type": "markdown",
      "metadata": {
        "id": "VGsOgtQfYalb"
      },
      "source": [
        "# Environment set-up\n",
        "Run the cell below:"
      ]
    },
    {
      "cell_type": "code",
      "metadata": {
        "id": "2VOVB-FHL0yL"
      },
      "source": [
        "#------------------------------------------------------------------------\n",
        "# Libraries installation\n",
        "\n",
        "# !pip install geopandas\n",
        "\n",
        "#------------------------------------------------------------------------\n",
        "# Useful functions\n",
        "\n",
        "def time_complete(data, timefreq = 'D'):\n",
        "    data = data.reset_index()\n",
        "    timevar = data.columns[0]\n",
        "    data[timevar] = data[timevar].astype('datetime64[D]')\n",
        "    full_time_range = pd.date_range(data[timevar].min(),  \n",
        "                                            data[timevar].max(), \n",
        "                                            freq = timefreq)\n",
        "    data = data.set_index(timevar)\n",
        "    data = data.reindex(full_time_range,  fill_value=0)\n",
        "    return(data)\n"
      ],
      "execution_count": null,
      "outputs": []
    },
    {
      "cell_type": "markdown",
      "metadata": {
        "id": "92SAq88YZLwB"
      },
      "source": [
        "# Let's start"
      ]
    },
    {
      "cell_type": "code",
      "metadata": {
        "id": "hCRBfqMGLjq7"
      },
      "source": [
        "import pandas as pd\n",
        "import numpy as np\n",
        "import geopandas as gpd"
      ],
      "execution_count": null,
      "outputs": []
    },
    {
      "cell_type": "markdown",
      "metadata": {
        "id": "-K86xN61OmPU"
      },
      "source": [
        "First, let's import the datasets we will use on this exercise"
      ]
    },
    {
      "cell_type": "code",
      "metadata": {
        "id": "tq68weiSOV-X"
      },
      "source": [
        "# from google.colab import files\n",
        "# files.upload()"
      ],
      "execution_count": null,
      "outputs": []
    },
    {
      "cell_type": "code",
      "metadata": {
        "id": "Q0FPdBvpOZQQ"
      },
      "source": [
        "!ls"
      ],
      "execution_count": null,
      "outputs": []
    },
    {
      "cell_type": "markdown",
      "metadata": {
        "id": "AgBRPdR0L_yK"
      },
      "source": [
        "## Exercise 1"
      ]
    },
    {
      "cell_type": "code",
      "metadata": {
        "id": "wqCoflgQZRSY",
        "scrolled": true
      },
      "source": [
        "# Load transactions per day data\n",
        "tdf = pd.read_csv('transactions_per_day.csv')\n",
        "tdf.head()"
      ],
      "execution_count": null,
      "outputs": []
    },
    {
      "cell_type": "code",
      "metadata": {
        "id": "tPfN_10taird"
      },
      "source": [
        "# Aggregate data by day\n",
        "tdf_day = tdf.groupby('date').agg({'value': np.sum})"
      ],
      "execution_count": null,
      "outputs": []
    },
    {
      "cell_type": "code",
      "metadata": {
        "id": "vGI6n3rzaird"
      },
      "source": [
        "# PLot\n",
        "tdf_day = time_complete(tdf_day)\n",
        "tdf_day.plot()"
      ],
      "execution_count": null,
      "outputs": []
    },
    {
      "cell_type": "markdown",
      "metadata": {
        "id": "DVWvRSW0MHdY"
      },
      "source": [
        "## Exercise 2"
      ]
    },
    {
      "cell_type": "markdown",
      "metadata": {
        "id": "1yDEra3bMHoG"
      },
      "source": [
        "\n",
        "## Exercise 3"
      ]
    },
    {
      "cell_type": "code",
      "metadata": {
        "id": "fI954J60amL3"
      },
      "source": [
        "import folium\r\n",
        "import pandas as pd\r\n",
        "\r\n",
        "\r\n",
        "url = (\r\n",
        "    \"https://raw.githubusercontent.com/python-visualization/folium/master/examples/data\"\r\n",
        ")\r\n",
        "state_geo = f\"{url}/us-states.json\"\r\n",
        "state_unemployment = f\"{url}/US_Unemployment_Oct2012.csv\"\r\n",
        "state_data = pd.read_csv(state_unemployment)\r\n",
        "\r\n",
        "m = folium.Map(location=[48, -102], zoom_start=3)\r\n",
        "\r\n",
        "folium.Choropleth(\r\n",
        "    geo_data=state_geo,\r\n",
        "    name=\"choropleth\",\r\n",
        "    data=state_data,\r\n",
        "    columns=[\"State\", \"Unemployment\"],\r\n",
        "    key_on=\"feature.id\",\r\n",
        "    fill_color=\"YlGn\",\r\n",
        "    fill_opacity=0.7,\r\n",
        "    line_opacity=0.2,\r\n",
        "    legend_name=\"Unemployment Rate (%)\",\r\n",
        ").add_to(m)\r\n",
        "\r\n",
        "folium.LayerControl().add_to(m)\r\n",
        "\r\n",
        "m"
      ],
      "execution_count": null,
      "outputs": []
    }
  ]
}