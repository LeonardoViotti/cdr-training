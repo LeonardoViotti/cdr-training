{
  "nbformat": 4,
  "nbformat_minor": 0,
  "metadata": {
    "colab": {
      "name": "Untitled2.ipynb",
      "provenance": [],
      "authorship_tag": "ABX9TyPAOaD3N02W+8XiPEVN3JIJ",
      "include_colab_link": true
    },
    "kernelspec": {
      "name": "python3",
      "display_name": "Python 3"
    }
  },
  "cells": [
    {
      "cell_type": "markdown",
      "metadata": {
        "id": "view-in-github",
        "colab_type": "text"
      },
      "source": [
        "<a href=\"https://colab.research.google.com/github/LeonardoViotti/cdr-training/blob/develop/notebooks/aggregated-cdr-analysis.ipynb\" target=\"_parent\"><img src=\"https://colab.research.google.com/assets/colab-badge.svg\" alt=\"Open In Colab\"/></a>"
      ]
    },
    {
      "cell_type": "markdown",
      "metadata": {
        "id": "sKd3pER2LVMu"
      },
      "source": [
        "# CDR Analysis\r\n",
        "\r\n",
        " - Aggregated data\r\n",
        " - Quality Checks\r\n",
        " - Analysis\r\n",
        " - Map"
      ]
    },
    {
      "cell_type": "code",
      "metadata": {
        "id": "2VOVB-FHL0yL"
      },
      "source": [
        "!pip install geopandas"
      ],
      "execution_count": null,
      "outputs": []
    },
    {
      "cell_type": "code",
      "metadata": {
        "id": "hCRBfqMGLjq7"
      },
      "source": [
        "import pandas as pd\r\n",
        "import numpy as np\r\n",
        "import geopandas as gpd"
      ],
      "execution_count": 4,
      "outputs": []
    },
    {
      "cell_type": "markdown",
      "metadata": {
        "id": "AgBRPdR0L_yK"
      },
      "source": [
        "## Exercise 1"
      ]
    },
    {
      "cell_type": "markdown",
      "metadata": {
        "id": "DVWvRSW0MHdY"
      },
      "source": [
        "## Exercise 2"
      ]
    },
    {
      "cell_type": "markdown",
      "metadata": {
        "id": "1yDEra3bMHoG"
      },
      "source": [
        "\r\n",
        "## Exercise 3"
      ]
    }
  ]
}